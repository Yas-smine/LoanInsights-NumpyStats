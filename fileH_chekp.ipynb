{
 "cells": [
  {
   "cell_type": "code",
   "execution_count": 49,
   "id": "7543bb84",
   "metadata": {},
   "outputs": [
    {
     "name": "stdout",
     "output_type": "stream",
     "text": [
      "Mean : 146.41\n",
      "Median : 128.0\n",
      "standard deviation : 85.52\n"
     ]
    }
   ],
   "source": [
    "import numpy as np\n",
    "# open csv file and assign the result to a variable\n",
    "file = open(\"Loan_prediction_dataset.csv\", \"r\")\n",
    "#  Read the data using NumPy\n",
    "data = np.genfromtxt(file, delimiter=\",\", dtype=float, skip_header=1)\n",
    "# Extract the loan amounts from column 9 (index 8)\n",
    "loan_amounts = data[:,8]  #Extract the loan amounts from column 9 (index 8) \n",
    "# Perform statistical analysis\n",
    "# - np.nanmean() ignores missing values (NaN)\n",
    "# - round(..., 2) rounds the result to 2 decimal places\n",
    "print(\"Mean :\", round(np.nanmean(loan_amounts),2))\n",
    "print(\"Median :\", round(np.nanmedian(loan_amounts),2))\n",
    "print(\"standard deviation :\", round(np.nanstd(loan_amounts),2))\n",
    "# Close the file after reading\n",
    "file.close()\n",
    "\n",
    "\n",
    "\n",
    "\n",
    "\n",
    "\n",
    "\n",
    "\n",
    "\n",
    "\n"
   ]
  }
 ],
 "metadata": {
  "kernelspec": {
   "display_name": "Python 3",
   "language": "python",
   "name": "python3"
  },
  "language_info": {
   "codemirror_mode": {
    "name": "ipython",
    "version": 3
   },
   "file_extension": ".py",
   "mimetype": "text/x-python",
   "name": "python",
   "nbconvert_exporter": "python",
   "pygments_lexer": "ipython3",
   "version": "3.11.9"
  }
 },
 "nbformat": 4,
 "nbformat_minor": 5
}
